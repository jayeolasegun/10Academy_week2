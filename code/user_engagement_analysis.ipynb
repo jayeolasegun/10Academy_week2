{
 "cells": [
  {
   "cell_type": "markdown",
   "metadata": {},
   "source": [
    "### [Introduction](#Introduction)\n",
    "\n",
    "> As telecom brands are the data providers of all online activities, meeting user\n",
    "requirements, and creating an engaging user experience is a prerequisite for them.\n",
    "Building & improving the QoS (Quality of Service) to leverage the mobile platforms and\n",
    "to get more users for the business is good but the success of the business would be\n",
    "determined by the user engagement and activity of the customers on available apps.\n",
    "\n",
    "\n",
    "### Objective\n",
    "\n",
    "> Determine the level of engagement of a random user for\n",
    "  any application\n",
    "  \n",
    "  - #### Track the user’s engagement using\n",
    "    - ##### sessions frequency\n",
    "    - ##### the duration of the session\n",
    "    - ##### sessions total traffic (download and upload (bytes))\n",
    "\n",
    "### Research Question\n",
    "\n",
    "1. Aggregate the above metrics per customer id (MSISDN) and report the top 10\n",
    "   customers per engagement metric - (jupyter notebook + slide for top 10)\n",
    "2. Normalize each engagement metric and run a k-means (k=3) to classify\n",
    "   customers in three groups of engagement. - (jupyter notebook)\n",
    "3. Compute the minimum, maximum, average & total non- normalized metrics for\n",
    "   each cluster. Interpret your results visually with accompanying text. - (jupyter\n",
    "   notebook + slide)\n",
    "4. Aggregate user total traffic per application and derive the top 10 most engaged\n",
    "   users per application - (jupyter notebook + slide)\n",
    "5. Plot the top 3 most used applications. - (jupyter notebook + slide)\n",
    "6. Using k- means clustering algorithm, group users in k engagement clusters based\n",
    "   on the engagement metrics:\n",
    "   - What is the optimized value of k ? - (slide)\n",
    "   - Interpret your findings. - (slide)\n"
   ]
  },
  {
   "cell_type": "markdown",
   "metadata": {},
   "source": [
    "### Import all necessary libraries"
   ]
  },
  {
   "cell_type": "code",
   "execution_count": 1,
   "metadata": {},
   "outputs": [],
   "source": [
    "import numpy as np\n",
    "import pandas as pd\n",
    "import matplotlib.pyplot as plt\n",
    "import seaborn as sns\n",
    "import warnings\n",
    "warnings.simplefilter(action = 'ignore')\n",
    "pd.set_option('display.max_columns', None)\n",
    "pd.set_option('display.max_rows', None)"
   ]
  },
  {
   "cell_type": "code",
   "execution_count": 2,
   "metadata": {},
   "outputs": [],
   "source": [
    "from sklearn.preprocessing import MinMaxScaler\n",
    "from sklearn.cluster import KMeans"
   ]
  },
  {
   "cell_type": "code",
   "execution_count": null,
   "metadata": {},
   "outputs": [],
   "source": []
  },
  {
   "cell_type": "markdown",
   "metadata": {},
   "source": [
    "### Read data from the data folder "
   ]
  },
  {
   "cell_type": "code",
   "execution_count": 4,
   "metadata": {},
   "outputs": [],
   "source": [
    "data = pd.read_excel('../data/Week2_challenge_data_source.xlsx')"
   ]
  },
  {
   "cell_type": "code",
   "execution_count": null,
   "metadata": {},
   "outputs": [],
   "source": []
  },
  {
   "cell_type": "markdown",
   "metadata": {},
   "source": [
    "### Save features into categorical and numerical list"
   ]
  },
  {
   "cell_type": "code",
   "execution_count": 5,
   "metadata": {},
   "outputs": [],
   "source": [
    "categorical_features = []\n",
    "numerical_features = []\n",
    "datetime_feature = []\n",
    "\n",
    "feature = data.columns.to_series().groupby(data.dtypes).groups\n",
    "for name , value in feature.items():\n",
    "    if name.name == 'object':\n",
    "        categorical_features.append(value)\n",
    "    elif name.name in ['int64','int32','float64','float32']:\n",
    "        numerical_features.append(value)\n",
    "    elif name.name == 'datetime64[ns]':\n",
    "        datetime_feature.append(value)"
   ]
  },
  {
   "cell_type": "code",
   "execution_count": null,
   "metadata": {},
   "outputs": [],
   "source": []
  },
  {
   "cell_type": "markdown",
   "metadata": {},
   "source": [
    "### Check the proportion of null values"
   ]
  },
  {
   "cell_type": "code",
   "execution_count": 6,
   "metadata": {},
   "outputs": [],
   "source": [
    "numerical_data = data[numerical_features[0]]"
   ]
  },
  {
   "cell_type": "code",
   "execution_count": 7,
   "metadata": {},
   "outputs": [
    {
     "data": {
      "text/plain": [
       "['Avg RTT UL (ms)',\n",
       " 'Avg RTT DL (ms)',\n",
       " 'Nb of sec with 1250B < Vol UL < 6250B',\n",
       " 'Nb of sec with 6250B < Vol UL < 37500B',\n",
       " 'Nb of sec with 125000B < Vol DL',\n",
       " 'HTTP UL (Bytes)',\n",
       " 'Nb of sec with 31250B < Vol DL < 125000B',\n",
       " 'HTTP DL (Bytes)',\n",
       " 'Nb of sec with 6250B < Vol DL < 31250B',\n",
       " 'TCP UL Retrans. Vol (Bytes)',\n",
       " 'TCP DL Retrans. Vol (Bytes)',\n",
       " 'Nb of sec with 37500B < Vol UL']"
      ]
     },
     "execution_count": 7,
     "metadata": {},
     "output_type": "execute_result"
    }
   ],
   "source": [
    "a = numerical_data.isna().sum() / len(numerical_data)\n",
    "\n",
    "high_missing_value_feature_names = []\n",
    "for name, value in a.to_dict().items():\n",
    "    if value > 0.01:\n",
    "        high_missing_value_feature_names.append(name)\n",
    "        \n",
    "high_missing_value_feature_names"
   ]
  },
  {
   "cell_type": "code",
   "execution_count": null,
   "metadata": {},
   "outputs": [],
   "source": []
  },
  {
   "cell_type": "code",
   "execution_count": 8,
   "metadata": {},
   "outputs": [],
   "source": [
    "# function to check if a value is a string object\n",
    "# returns a boolean value True --> if its a string   False --> if its not a string object\n",
    "\n",
    "def is_str(s):\n",
    "    a = isinstance(s,str)\n",
    "    return a"
   ]
  },
  {
   "cell_type": "code",
   "execution_count": 9,
   "metadata": {},
   "outputs": [],
   "source": [
    "\"\"\"\n",
    "remove rows with empty strings and missing values\n",
    "MSISDN/Number is a unique identifier to users and \n",
    "null entries cannot be imputed with mode/mean/median\n",
    "\n",
    "using mode would skew the the data to a particular user\n",
    "during modelling and other exploratory analysis\n",
    "\n",
    "\"\"\"\n",
    "\n",
    "data.drop(data.loc[data['Bearer Id'].apply(is_str)].index, inplace = True)\n",
    "\n",
    "data.drop(data.loc[data['MSISDN/Number'].isna()].index, inplace = True)"
   ]
  },
  {
   "cell_type": "code",
   "execution_count": null,
   "metadata": {},
   "outputs": [],
   "source": []
  },
  {
   "cell_type": "code",
   "execution_count": null,
   "metadata": {},
   "outputs": [],
   "source": []
  },
  {
   "cell_type": "code",
   "execution_count": 10,
   "metadata": {},
   "outputs": [],
   "source": [
    "# create a new column which is the addition of total download and total upload\n",
    "data['Total Data Volume'] = data['Total DL (Bytes)'].add(data['Total UL (Bytes)'])\n",
    "\n",
    "data['Social_media Data Volume'] = data['Social Media DL (Bytes)'].add(data['Social Media UL (Bytes)'])\n",
    "data['Google Data Volume'] = data['Google DL (Bytes)'].add(data['Google UL (Bytes)'])\n",
    "data['Email Data Volume'] = data['Email DL (Bytes)'].add(data['Email UL (Bytes)'])\n",
    "data['Youtube Data Volume'] = data['Youtube DL (Bytes)'].add(data['Youtube UL (Bytes)'])\n",
    "data['Netflix Data Volume'] = data['Netflix DL (Bytes)'].add(data['Netflix UL (Bytes)'])\n",
    "data['Gaming Data Volume'] = data['Gaming DL (Bytes)'].add(data['Gaming UL (Bytes)'])\n",
    "data['Other Data Volume'] = data['Other DL (Bytes)'].add(data['Other UL (Bytes)'])"
   ]
  },
  {
   "cell_type": "code",
   "execution_count": null,
   "metadata": {},
   "outputs": [],
   "source": []
  },
  {
   "cell_type": "code",
   "execution_count": 11,
   "metadata": {},
   "outputs": [],
   "source": [
    "data2 = data[['MSISDN/Number','Bearer Id','Dur. (ms).1','Total UL (Bytes)','Total DL (Bytes)','Social_media Data Volume','Google Data Volume',\\\n",
    "                'Other Data Volume', 'Email Data Volume','Youtube Data Volume', 'Netflix Data Volume', \\\n",
    "                'Gaming Data Volume','Total Data Volume']]"
   ]
  },
  {
   "cell_type": "code",
   "execution_count": 12,
   "metadata": {},
   "outputs": [],
   "source": [
    "#d = data2.groupby(['MSISDN/Number']).apply(agg_eng)"
   ]
  },
  {
   "cell_type": "code",
   "execution_count": null,
   "metadata": {},
   "outputs": [],
   "source": []
  },
  {
   "cell_type": "code",
   "execution_count": 13,
   "metadata": {},
   "outputs": [],
   "source": [
    "# converts values from bytes to megabytes\n",
    "\n",
    "def bytes_to_megabytes(num):\n",
    "    if not isinstance(num, str):\n",
    "        mb = 1024 ** 2\n",
    "        return float('{0:.2f}'.format(num/mb))\n",
    "    else:\n",
    "        return num"
   ]
  },
  {
   "cell_type": "code",
   "execution_count": null,
   "metadata": {},
   "outputs": [],
   "source": []
  },
  {
   "cell_type": "markdown",
   "metadata": {},
   "source": [
    "#### Convert MSISDN/Number to string so that its plotted as a categorical variable"
   ]
  },
  {
   "cell_type": "code",
   "execution_count": 14,
   "metadata": {},
   "outputs": [],
   "source": [
    "data['MSISDN/Number'] = data['MSISDN/Number'].astype('str')"
   ]
  },
  {
   "cell_type": "code",
   "execution_count": null,
   "metadata": {},
   "outputs": [],
   "source": []
  },
  {
   "cell_type": "markdown",
   "metadata": {},
   "source": [
    "## Track User Engagement:\n",
    "\n"
   ]
  },
  {
   "cell_type": "markdown",
   "metadata": {},
   "source": [
    "#### Session Frequency"
   ]
  },
  {
   "cell_type": "code",
   "execution_count": null,
   "metadata": {},
   "outputs": [],
   "source": [
    "# Aggregates per user \n",
    "\n",
    "sess_freq = data2.groupby(['MSISDN/Number']).agg({'Dur. (ms).1':'sum','Bearer Id':'count','Total Data Volume':'sum'}).reset_index()"
   ]
  },
  {
   "cell_type": "code",
   "execution_count": null,
   "metadata": {},
   "outputs": [],
   "source": [
    "# sort the values in descending order\n",
    "sorted_sess_freq_dur = sess_freq[['MSISDN/Number','Dur. (ms).1']].sort_values(by = 'Dur. (ms).1', ascending = False)"
   ]
  },
  {
   "cell_type": "code",
   "execution_count": null,
   "metadata": {},
   "outputs": [],
   "source": [
    "sorted_sess_freq_dur.head(10)"
   ]
  },
  {
   "cell_type": "code",
   "execution_count": null,
   "metadata": {},
   "outputs": [],
   "source": []
  },
  {
   "cell_type": "code",
   "execution_count": null,
   "metadata": {},
   "outputs": [],
   "source": [
    "# sort values in descending order\n",
    "sorted_sess_freq_sess = sess_freq[['MSISDN/Number','Bearer Id']].sort_values(by = 'Bearer Id', ascending = False)"
   ]
  },
  {
   "cell_type": "code",
   "execution_count": null,
   "metadata": {},
   "outputs": [],
   "source": [
    "sorted_sess_freq_sess.head(10)"
   ]
  },
  {
   "cell_type": "code",
   "execution_count": null,
   "metadata": {},
   "outputs": [],
   "source": []
  },
  {
   "cell_type": "code",
   "execution_count": null,
   "metadata": {},
   "outputs": [],
   "source": [
    "# sort values in descending order\n",
    "sorted_sess_freq_data = sess_freq[['MSISDN/Number','Total Data Volume']].sort_values(by = 'Total Data Volume', ascending = False)"
   ]
  },
  {
   "cell_type": "code",
   "execution_count": null,
   "metadata": {},
   "outputs": [],
   "source": [
    "sorted_sess_freq_data.head(10)"
   ]
  },
  {
   "cell_type": "code",
   "execution_count": null,
   "metadata": {},
   "outputs": [],
   "source": []
  },
  {
   "cell_type": "code",
   "execution_count": null,
   "metadata": {},
   "outputs": [],
   "source": [
    "# merge engagement metrics together\n",
    "# merge all dataframe into a single dataframe named engaged df"
   ]
  },
  {
   "cell_type": "code",
   "execution_count": null,
   "metadata": {},
   "outputs": [],
   "source": [
    "# sort engaged_df values in descending order\n",
    "engaged_df = sorted_sess_freq_dur.merge(sorted_sess_freq_sess , on = 'MSISDN/Number').merge(sorted_sess_freq_data, on = 'MSISDN/Number')"
   ]
  },
  {
   "cell_type": "code",
   "execution_count": null,
   "metadata": {},
   "outputs": [],
   "source": []
  },
  {
   "cell_type": "code",
   "execution_count": null,
   "metadata": {},
   "outputs": [],
   "source": [
    "# convert engaged df values from bytes to megabytes so that can be well visualised\n",
    "engaged_df_mb = engaged_df[['MSISDN/Number','Total Data Volume','Dur. (ms).1']].applymap(bytes_to_megabytes)"
   ]
  },
  {
   "cell_type": "code",
   "execution_count": null,
   "metadata": {},
   "outputs": [],
   "source": []
  },
  {
   "cell_type": "code",
   "execution_count": null,
   "metadata": {},
   "outputs": [],
   "source": [
    "# MELT The dataframe to create a categorical column of containing engagement metrics\n",
    "\n",
    "eng = pd.melt(id_vars=['MSISDN/Number'], value_vars=['Total Data Volume','Dur. (ms).1'],\n",
    "        value_name='value', var_name='metrics', frame=engaged_df_mb.head(10))\n",
    "\n",
    "plt.figure(figsize = (10,8))\n",
    "sns.barplot(data = eng , x = 'MSISDN/Number',y = 'value', hue = 'metrics')\n",
    "plt.xticks(rotation=45, fontsize=13)\n",
    "plt.show()"
   ]
  },
  {
   "cell_type": "markdown",
   "metadata": {},
   "source": [
    "## Normalize and Kmeans"
   ]
  },
  {
   "cell_type": "code",
   "execution_count": null,
   "metadata": {},
   "outputs": [],
   "source": [
    "data_norm = data2[['Bearer Id','Total Data Volume','Dur. (ms).1']]"
   ]
  },
  {
   "cell_type": "code",
   "execution_count": null,
   "metadata": {},
   "outputs": [],
   "source": [
    "scaler = MinMaxScaler()\n",
    "data_scaled = scaler.fit_transform(data_norm)"
   ]
  },
  {
   "cell_type": "code",
   "execution_count": null,
   "metadata": {},
   "outputs": [],
   "source": [
    "kmean = KMeans(n_clusters=2, init='random', n_init=10, max_iter=300, tol=1e-04, random_state=0)"
   ]
  },
  {
   "cell_type": "code",
   "execution_count": null,
   "metadata": {},
   "outputs": [],
   "source": [
    "km_data = kmean.fit_predict(data_scaled)"
   ]
  },
  {
   "cell_type": "markdown",
   "metadata": {},
   "source": [
    "#### Plot the Clusters"
   ]
  },
  {
   "cell_type": "code",
   "execution_count": null,
   "metadata": {},
   "outputs": [],
   "source": [
    "# plot the 3 clusters\n",
    "plt.figure(figsize = (10,8))\n",
    "\n",
    "plt.scatter(\n",
    "    data_scaled[km_data == 0, 0], data_scaled[km_data == 0, 1],\n",
    "    s=50, c='lightgreen',\n",
    "    marker='s', edgecolor='black',\n",
    "    label='cluster 1'\n",
    ")\n",
    "\n",
    "plt.scatter(\n",
    "    data_scaled[km_data == 1, 0], data_scaled[km_data == 1, 1],\n",
    "    s=50, c='orange',\n",
    "    marker='o', edgecolor='black',\n",
    "    label='cluster 2'\n",
    ")\n",
    "\n",
    "# plot the centroids\n",
    "plt.scatter(\n",
    "    kmean.cluster_centers_[:, 0], kmean.cluster_centers_[:, 1],\n",
    "    s=250, marker='*',\n",
    "    c='red', edgecolor='black',\n",
    "    label='centroids'\n",
    ")\n",
    "\n",
    "plt.legend(scatterpoints=1)\n",
    "plt.grid()\n",
    "plt.show()\n"
   ]
  },
  {
   "cell_type": "code",
   "execution_count": null,
   "metadata": {},
   "outputs": [],
   "source": [
    "distortions = []\n",
    "for i in range(1, 11):\n",
    "    km = KMeans(\n",
    "        n_clusters=i, init='random',\n",
    "        n_init=10, max_iter=300,\n",
    "        tol=1e-04, random_state=0\n",
    "    )\n",
    "    km.fit(data_scaled)\n",
    "    distortions.append(km.inertia_)\n",
    "\n",
    "# plot\n",
    "plt.figure(figsize = (10,8))\n",
    "plt.plot(range(1, 11), distortions, marker='o')\n",
    "plt.xlabel('Number of clusters')\n",
    "plt.ylabel('Distortion')\n",
    "plt.show()"
   ]
  },
  {
   "cell_type": "code",
   "execution_count": null,
   "metadata": {},
   "outputs": [],
   "source": []
  },
  {
   "cell_type": "markdown",
   "metadata": {},
   "source": [
    "### minimum, maximum, average & total non- normalized metrics for each cluster."
   ]
  },
  {
   "cell_type": "code",
   "execution_count": null,
   "metadata": {},
   "outputs": [],
   "source": [
    "# crates a column named cluster that contains the cluster values\n",
    "data_norm['cluster'] = km_data"
   ]
  },
  {
   "cell_type": "code",
   "execution_count": null,
   "metadata": {},
   "outputs": [],
   "source": [
    "#data_norm.head()"
   ]
  },
  {
   "cell_type": "code",
   "execution_count": null,
   "metadata": {},
   "outputs": [],
   "source": []
  },
  {
   "cell_type": "code",
   "execution_count": null,
   "metadata": {},
   "outputs": [],
   "source": [
    "# aggregates per cluster the session duration \n",
    "session_duration_per_cluster = data_norm.groupby('cluster')['Dur. (ms).1'].aggregate(['min', 'max', 'mean', 'sum']).reset_index(drop=True)"
   ]
  },
  {
   "cell_type": "code",
   "execution_count": null,
   "metadata": {},
   "outputs": [],
   "source": []
  },
  {
   "cell_type": "code",
   "execution_count": null,
   "metadata": {},
   "outputs": [],
   "source": [
    "# log the values transforming the values for proper visualisation\n",
    "session_duration_per_cluster_mb = session_duration_per_cluster.applymap(np.log)"
   ]
  },
  {
   "cell_type": "code",
   "execution_count": null,
   "metadata": {},
   "outputs": [],
   "source": []
  },
  {
   "cell_type": "code",
   "execution_count": null,
   "metadata": {},
   "outputs": [],
   "source": [
    "plt.figure(figsize = (10,8))\n",
    "ax= session_duration_per_cluster_mb.plot.bar(figsize=(12,10))\n",
    "plt.title(\"Session Duration per cluster\", fontsize=15)\n",
    "plt.xlabel('Clusters', fontsize=12)\n",
    "plt.ylabel('Value', fontsize=12)\n",
    "plt.xticks( rotation = 0,fontsize=12)\n",
    "plt.savefig('fig/min_max.png')\n",
    "plt.show()"
   ]
  },
  {
   "cell_type": "markdown",
   "metadata": {},
   "source": [
    "#### Aggregate User Total Application Traffic"
   ]
  },
  {
   "cell_type": "code",
   "execution_count": null,
   "metadata": {},
   "outputs": [],
   "source": [
    "at = data2[['Social_media Data Volume','Google Data Volume',\\\n",
    "      'Other Data Volume', 'Email Data Volume','Youtube Data Volume', 'Netflix Data Volume', \\\n",
    "        'Gaming Data Volume','MSISDN/Number']].groupby('MSISDN/Number').sum().reset_index()"
   ]
  },
  {
   "cell_type": "code",
   "execution_count": null,
   "metadata": {},
   "outputs": [],
   "source": [
    "# converts bytes values to megabytes\n",
    "\n",
    "at = at.applymap(bytes_to_megabytes)"
   ]
  },
  {
   "cell_type": "code",
   "execution_count": null,
   "metadata": {},
   "outputs": [],
   "source": []
  },
  {
   "cell_type": "code",
   "execution_count": null,
   "metadata": {},
   "outputs": [],
   "source": [
    "google = at[['MSISDN/Number','Google Data Volume']].sort_values(by = 'Google Data Volume', ascending = False).head(10)"
   ]
  },
  {
   "cell_type": "code",
   "execution_count": null,
   "metadata": {},
   "outputs": [],
   "source": [
    "plt.figure(figsize = (10,8))\n",
    "sns.barplot(data = google , x = 'MSISDN/Number',y = 'Google Data Volume')\n",
    "plt.xticks(rotation=45, fontsize=13)\n",
    "plt.title(\"Google Total Data Volume for Top 10 Users\", fontsize=15)\n",
    "plt.savefig('fig/google.png')\n",
    "plt.show()"
   ]
  },
  {
   "cell_type": "code",
   "execution_count": null,
   "metadata": {},
   "outputs": [],
   "source": []
  },
  {
   "cell_type": "code",
   "execution_count": null,
   "metadata": {},
   "outputs": [],
   "source": [
    "social = at[['MSISDN/Number','Social_media Data Volume']].sort_values(by = 'Social_media Data Volume', ascending = False).head(10)"
   ]
  },
  {
   "cell_type": "code",
   "execution_count": null,
   "metadata": {},
   "outputs": [],
   "source": [
    "plt.figure(figsize = (10,8))\n",
    "sns.barplot(data = social , x = 'MSISDN/Number',y = 'Social_media Data Volume')\n",
    "plt.xticks(rotation=45, fontsize=13)\n",
    "plt.title(\"Social Media Total Data Volume for Top 10 Users\", fontsize=15)\n",
    "plt.savefig('fig/social.png')\n",
    "plt.show()"
   ]
  },
  {
   "cell_type": "code",
   "execution_count": null,
   "metadata": {},
   "outputs": [],
   "source": []
  },
  {
   "cell_type": "code",
   "execution_count": null,
   "metadata": {},
   "outputs": [],
   "source": [
    "Netflix = at[['MSISDN/Number','Netflix Data Volume']].sort_values(by = 'Netflix Data Volume', ascending = False).head(10)"
   ]
  },
  {
   "cell_type": "code",
   "execution_count": null,
   "metadata": {},
   "outputs": [],
   "source": [
    "plt.figure(figsize = (10,8))\n",
    "sns.barplot(data = Netflix , x = 'MSISDN/Number',y = 'Netflix Data Volume')\n",
    "plt.xticks(rotation=45, fontsize=13)\n",
    "plt.title(\"Netflix Total Data Volume for Top 10 Users\", fontsize=15)\n",
    "plt.savefig('fig/netflix.png')\n",
    "plt.show()"
   ]
  },
  {
   "cell_type": "code",
   "execution_count": null,
   "metadata": {},
   "outputs": [],
   "source": []
  },
  {
   "cell_type": "code",
   "execution_count": null,
   "metadata": {},
   "outputs": [],
   "source": [
    "Other = at[['MSISDN/Number','Other Data Volume']].sort_values(by = 'Other Data Volume', ascending = False).head(10)"
   ]
  },
  {
   "cell_type": "code",
   "execution_count": null,
   "metadata": {},
   "outputs": [],
   "source": [
    "plt.figure(figsize = (10,8))\n",
    "sns.barplot(data = Other , x = 'MSISDN/Number',y = 'Other Data Volume')\n",
    "plt.xticks(rotation=45, fontsize=13)\n",
    "plt.title(\"Other App Total Data Volume for Top 10 Users\", fontsize=15)\n",
    "plt.savefig('fig/other.png')\n",
    "plt.show()"
   ]
  },
  {
   "cell_type": "code",
   "execution_count": null,
   "metadata": {},
   "outputs": [],
   "source": []
  },
  {
   "cell_type": "code",
   "execution_count": null,
   "metadata": {},
   "outputs": [],
   "source": [
    "Email = at[['MSISDN/Number','Email Data Volume']].sort_values(by = 'Email Data Volume', ascending = False).head(10)"
   ]
  },
  {
   "cell_type": "code",
   "execution_count": null,
   "metadata": {},
   "outputs": [],
   "source": [
    "plt.figure(figsize = (10,8))\n",
    "sns.barplot(data = Email , x = 'MSISDN/Number',y = 'Email Data Volume')\n",
    "plt.xticks(rotation=45, fontsize=13)\n",
    "plt.title(\"Email Total Data Volume for Top 10 Users\", fontsize=15)\n",
    "plt.savefig('fig/email.png')\n",
    "plt.show()"
   ]
  },
  {
   "cell_type": "code",
   "execution_count": null,
   "metadata": {},
   "outputs": [],
   "source": []
  },
  {
   "cell_type": "code",
   "execution_count": null,
   "metadata": {},
   "outputs": [],
   "source": [
    "Youtube = at[['MSISDN/Number','Youtube Data Volume']].sort_values(by = 'Youtube Data Volume', ascending = False).head(10)"
   ]
  },
  {
   "cell_type": "code",
   "execution_count": null,
   "metadata": {},
   "outputs": [],
   "source": [
    "plt.figure(figsize = (10,8))\n",
    "sns.barplot(data = Youtube , x = 'MSISDN/Number',y = 'Youtube Data Volume')\n",
    "plt.xticks(rotation=45, fontsize=13)\n",
    "plt.title(\"Youtube Total Data Volume for Top 10 Users\", fontsize=15)\n",
    "plt.savefig('fig/youtube.png')\n",
    "plt.show()"
   ]
  },
  {
   "cell_type": "code",
   "execution_count": null,
   "metadata": {},
   "outputs": [],
   "source": []
  },
  {
   "cell_type": "code",
   "execution_count": null,
   "metadata": {},
   "outputs": [],
   "source": [
    "Gaming = at[['MSISDN/Number','Gaming Data Volume']].sort_values(by = 'Gaming Data Volume', ascending = False).head(10)"
   ]
  },
  {
   "cell_type": "code",
   "execution_count": null,
   "metadata": {},
   "outputs": [],
   "source": [
    "plt.figure(figsize = (10,8))\n",
    "sns.barplot(data = Gaming , x = 'MSISDN/Number',y = 'Gaming Data Volume')\n",
    "plt.xticks(rotation=45, fontsize=13)\n",
    "plt.title(\"Gamimg Total Data Volume for Top 10 Users\", fontsize=15)\n",
    "plt.show()"
   ]
  },
  {
   "cell_type": "code",
   "execution_count": null,
   "metadata": {},
   "outputs": [],
   "source": []
  },
  {
   "cell_type": "markdown",
   "metadata": {},
   "source": [
    "### Top 3 App"
   ]
  },
  {
   "cell_type": "code",
   "execution_count": null,
   "metadata": {},
   "outputs": [],
   "source": [
    "s = at.apply(np.max)"
   ]
  },
  {
   "cell_type": "code",
   "execution_count": null,
   "metadata": {},
   "outputs": [],
   "source": [
    "s = s[1 :].sort_values(ascending = False).reset_index()\n",
    "s.columns =  ['Application', 'Total data Usage in mb']\n",
    "#df = pd.DataFrame(s[:3], columns = ['Application', 'Total data Usage in mb']) "
   ]
  },
  {
   "cell_type": "code",
   "execution_count": null,
   "metadata": {},
   "outputs": [],
   "source": []
  },
  {
   "cell_type": "code",
   "execution_count": null,
   "metadata": {},
   "outputs": [],
   "source": [
    "plt.figure(figsize = (10,8))\n",
    "sns.barplot(data = s[:3] , x = 'Application',y = 'Total data Usage in mb')\n",
    "plt.xticks(rotation=45, fontsize=13)\n",
    "plt.title(\"Top 3 APPS\", fontsize=15)\n",
    "plt.savefig('fig/top3.png')\n",
    "plt.show()"
   ]
  },
  {
   "cell_type": "code",
   "execution_count": null,
   "metadata": {},
   "outputs": [],
   "source": [
    "#at[['MSISDN/Number','Google Data Volume']].sort_values(by = 'Google Data Volume', ascending = False).head(10)"
   ]
  },
  {
   "cell_type": "code",
   "execution_count": null,
   "metadata": {},
   "outputs": [],
   "source": []
  },
  {
   "cell_type": "code",
   "execution_count": null,
   "metadata": {},
   "outputs": [],
   "source": [
    "data_norm.head()"
   ]
  },
  {
   "cell_type": "code",
   "execution_count": null,
   "metadata": {},
   "outputs": [],
   "source": [
    "df_0 = data_norm.loc[data_norm['cluster'] == 0]"
   ]
  },
  {
   "cell_type": "code",
   "execution_count": null,
   "metadata": {},
   "outputs": [],
   "source": [
    "df_1 = data_norm.loc[data_norm['cluster'] == 1]"
   ]
  },
  {
   "cell_type": "code",
   "execution_count": null,
   "metadata": {},
   "outputs": [],
   "source": []
  }
 ],
 "metadata": {
  "kernelspec": {
   "display_name": "Python 3",
   "language": "python",
   "name": "python3"
  },
  "language_info": {
   "codemirror_mode": {
    "name": "ipython",
    "version": 3
   },
   "file_extension": ".py",
   "mimetype": "text/x-python",
   "name": "python",
   "nbconvert_exporter": "python",
   "pygments_lexer": "ipython3",
   "version": "3.7.6"
  }
 },
 "nbformat": 4,
 "nbformat_minor": 4
}
