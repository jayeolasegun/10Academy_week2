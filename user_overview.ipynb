{
 "cells": [
  {
   "cell_type": "markdown",
   "metadata": {},
   "source": [
    "# Table of Content\n",
    "\n",
    "- ## Introduction\n",
    "- ## Objective\n",
    "- ## Research Question\n",
    "- ## Analysis\n",
    " - #### Import necessary libraries\n",
    " - #### Read the data\n",
    " - #### Preprocessing\n",
    " - #### Exploratory Data Analysis\n",
    "- ## Summary\n",
    "- ## Recommendation\n"
   ]
  },
  {
   "cell_type": "markdown",
   "metadata": {},
   "source": [
    "> # Import all necessary libraries and packages"
   ]
  },
  {
   "cell_type": "code",
   "execution_count": 44,
   "metadata": {},
   "outputs": [],
   "source": [
    "#!pip install openpyxl\n",
    "#import openpyxl\n",
    "import matplotlib.pyplot as plt\n",
    "import seaborn as sns\n",
    "import pandas as pd\n",
    "import warnings\n",
    "warnings.simplefilter(action = 'ignore')\n",
    "pd.set_option('display.max_columns', None)\n",
    "pd.set_option('display.max_rows', None)"
   ]
  },
  {
   "cell_type": "code",
   "execution_count": 2,
   "metadata": {},
   "outputs": [],
   "source": [
    "sns.set(style=\"whitegrid\")\n",
    "#sns.set(style=\"ticks\", palette=\"pastel\")\n",
    "sns.set_context('notebook')"
   ]
  },
  {
   "cell_type": "code",
   "execution_count": 3,
   "metadata": {},
   "outputs": [],
   "source": [
    "import re\n",
    "from scipy import stats\n",
    "import numpy as np"
   ]
  },
  {
   "cell_type": "markdown",
   "metadata": {},
   "source": [
    "> ### Read file from data folder"
   ]
  },
  {
   "cell_type": "code",
   "execution_count": 4,
   "metadata": {},
   "outputs": [],
   "source": [
    "data = pd.read_excel('data/Week2_challenge_data_source.xlsx')"
   ]
  },
  {
   "cell_type": "markdown",
   "metadata": {},
   "source": [
    "> ### Preprocessing"
   ]
  },
  {
   "cell_type": "markdown",
   "metadata": {},
   "source": [
    ">\n",
    "  >  ##### create a list for various data types"
   ]
  },
  {
   "cell_type": "code",
   "execution_count": 5,
   "metadata": {},
   "outputs": [],
   "source": [
    "categorical_features = []\n",
    "numerical_features = []\n",
    "datetime_feature = []\n",
    "\n",
    "feature = data.columns.to_series().groupby(data.dtypes).groups\n",
    "for name , value in feature.items():\n",
    "    if name.name == 'object':\n",
    "        categorical_features.append(value)\n",
    "    elif name.name in ['int64','int32','float64','float32']:\n",
    "        numerical_features.append(value)\n",
    "    elif name.name == 'datetime64[ns]':\n",
    "        datetime_feature.append(value)"
   ]
  },
  {
   "cell_type": "markdown",
   "metadata": {},
   "source": [
    "> ##### Check for in categorical features "
   ]
  },
  {
   "cell_type": "code",
   "execution_count": 6,
   "metadata": {},
   "outputs": [],
   "source": [
    "categorical_data = data[categorical_features[0]]"
   ]
  },
  {
   "cell_type": "code",
   "execution_count": 7,
   "metadata": {},
   "outputs": [
    {
     "data": {
      "text/plain": [
       "Bearer Id                  0\n",
       "Last Location Name      1153\n",
       "Handset Manufacturer     572\n",
       "Handset Type             572\n",
       "dtype: int64"
      ]
     },
     "execution_count": 7,
     "metadata": {},
     "output_type": "execute_result"
    }
   ],
   "source": [
    "categorical_data.isna().sum()"
   ]
  },
  {
   "cell_type": "code",
   "execution_count": 8,
   "metadata": {},
   "outputs": [
    {
     "data": {
      "text/plain": [
       "Bearer Id               0.000000\n",
       "Last Location Name      0.007687\n",
       "Handset Manufacturer    0.003813\n",
       "Handset Type            0.003813\n",
       "dtype: float64"
      ]
     },
     "execution_count": 8,
     "metadata": {},
     "output_type": "execute_result"
    }
   ],
   "source": [
    "categorical_data.isna().sum() / len(categorical_data)"
   ]
  },
  {
   "cell_type": "code",
   "execution_count": 9,
   "metadata": {},
   "outputs": [],
   "source": [
    "def is_str(s):\n",
    "    a = isinstance(s,str)\n",
    "    return a"
   ]
  },
  {
   "cell_type": "code",
   "execution_count": 10,
   "metadata": {},
   "outputs": [
    {
     "data": {
      "text/plain": [
       "991"
      ]
     },
     "execution_count": 10,
     "metadata": {},
     "output_type": "execute_result"
    }
   ],
   "source": [
    "categorical_data['Bearer Id'].apply(is_str).sum()"
   ]
  },
  {
   "cell_type": "code",
   "execution_count": 11,
   "metadata": {},
   "outputs": [
    {
     "data": {
      "text/html": [
       "<div>\n",
       "<style scoped>\n",
       "    .dataframe tbody tr th:only-of-type {\n",
       "        vertical-align: middle;\n",
       "    }\n",
       "\n",
       "    .dataframe tbody tr th {\n",
       "        vertical-align: top;\n",
       "    }\n",
       "\n",
       "    .dataframe thead th {\n",
       "        text-align: right;\n",
       "    }\n",
       "</style>\n",
       "<table border=\"1\" class=\"dataframe\">\n",
       "  <thead>\n",
       "    <tr style=\"text-align: right;\">\n",
       "      <th></th>\n",
       "      <th>Bearer Id</th>\n",
       "      <th>Last Location Name</th>\n",
       "      <th>Handset Manufacturer</th>\n",
       "      <th>Handset Type</th>\n",
       "    </tr>\n",
       "  </thead>\n",
       "  <tbody>\n",
       "    <tr>\n",
       "      <th>463</th>\n",
       "      <td></td>\n",
       "      <td>NaN</td>\n",
       "      <td>NaN</td>\n",
       "      <td>NaN</td>\n",
       "    </tr>\n",
       "    <tr>\n",
       "      <th>478</th>\n",
       "      <td></td>\n",
       "      <td>NaN</td>\n",
       "      <td>NaN</td>\n",
       "      <td>NaN</td>\n",
       "    </tr>\n",
       "    <tr>\n",
       "      <th>503</th>\n",
       "      <td></td>\n",
       "      <td>NaN</td>\n",
       "      <td>NaN</td>\n",
       "      <td>NaN</td>\n",
       "    </tr>\n",
       "    <tr>\n",
       "      <th>4176</th>\n",
       "      <td></td>\n",
       "      <td>NaN</td>\n",
       "      <td>Huawei</td>\n",
       "      <td>Huawei Honor 10</td>\n",
       "    </tr>\n",
       "    <tr>\n",
       "      <th>4365</th>\n",
       "      <td></td>\n",
       "      <td>NaN</td>\n",
       "      <td>NaN</td>\n",
       "      <td>NaN</td>\n",
       "    </tr>\n",
       "    <tr>\n",
       "      <th>4476</th>\n",
       "      <td></td>\n",
       "      <td>NaN</td>\n",
       "      <td>NaN</td>\n",
       "      <td>NaN</td>\n",
       "    </tr>\n",
       "    <tr>\n",
       "      <th>4554</th>\n",
       "      <td></td>\n",
       "      <td>NaN</td>\n",
       "      <td>NaN</td>\n",
       "      <td>NaN</td>\n",
       "    </tr>\n",
       "    <tr>\n",
       "      <th>4581</th>\n",
       "      <td></td>\n",
       "      <td>NaN</td>\n",
       "      <td>NaN</td>\n",
       "      <td>NaN</td>\n",
       "    </tr>\n",
       "    <tr>\n",
       "      <th>4686</th>\n",
       "      <td></td>\n",
       "      <td>NaN</td>\n",
       "      <td>NaN</td>\n",
       "      <td>NaN</td>\n",
       "    </tr>\n",
       "    <tr>\n",
       "      <th>4966</th>\n",
       "      <td></td>\n",
       "      <td>NaN</td>\n",
       "      <td>NaN</td>\n",
       "      <td>NaN</td>\n",
       "    </tr>\n",
       "  </tbody>\n",
       "</table>\n",
       "</div>"
      ],
      "text/plain": [
       "     Bearer Id Last Location Name Handset Manufacturer     Handset Type\n",
       "463                           NaN                  NaN              NaN\n",
       "478                           NaN                  NaN              NaN\n",
       "503                           NaN                  NaN              NaN\n",
       "4176                          NaN               Huawei  Huawei Honor 10\n",
       "4365                          NaN                  NaN              NaN\n",
       "4476                          NaN                  NaN              NaN\n",
       "4554                          NaN                  NaN              NaN\n",
       "4581                          NaN                  NaN              NaN\n",
       "4686                          NaN                  NaN              NaN\n",
       "4966                          NaN                  NaN              NaN"
      ]
     },
     "execution_count": 11,
     "metadata": {},
     "output_type": "execute_result"
    }
   ],
   "source": [
    "categorical_data[categorical_data['Bearer Id'].apply(is_str)].head(10)"
   ]
  },
  {
   "cell_type": "markdown",
   "metadata": {},
   "source": [
    "> ##### Check for in numerical features"
   ]
  },
  {
   "cell_type": "code",
   "execution_count": 12,
   "metadata": {},
   "outputs": [],
   "source": [
    "numerical_data = data[numerical_features[0]]"
   ]
  },
  {
   "cell_type": "code",
   "execution_count": 13,
   "metadata": {},
   "outputs": [
    {
     "data": {
      "text/plain": [
       "Start ms                                         1\n",
       "End ms                                           1\n",
       "Dur. (ms)                                        1\n",
       "IMSI                                           570\n",
       "MSISDN/Number                                 1066\n",
       "IMEI                                           572\n",
       "Avg RTT DL (ms)                              27829\n",
       "Avg RTT UL (ms)                              27812\n",
       "Avg Bearer TP DL (kbps)                          1\n",
       "Avg Bearer TP UL (kbps)                          1\n",
       "TCP DL Retrans. Vol (Bytes)                  88146\n",
       "TCP UL Retrans. Vol (Bytes)                  96649\n",
       "DL TP < 50 Kbps (%)                            754\n",
       "50 Kbps < DL TP < 250 Kbps (%)                 754\n",
       "250 Kbps < DL TP < 1 Mbps (%)                  754\n",
       "DL TP > 1 Mbps (%)                             754\n",
       "UL TP < 10 Kbps (%)                            792\n",
       "10 Kbps < UL TP < 50 Kbps (%)                  792\n",
       "50 Kbps < UL TP < 300 Kbps (%)                 792\n",
       "UL TP > 300 Kbps (%)                           792\n",
       "HTTP DL (Bytes)                              81474\n",
       "HTTP UL (Bytes)                              81810\n",
       "Activity Duration DL (ms)                        1\n",
       "Activity Duration UL (ms)                        1\n",
       "Dur. (ms).1                                      1\n",
       "Nb of sec with 125000B < Vol DL              97538\n",
       "Nb of sec with 1250B < Vol UL < 6250B        92894\n",
       "Nb of sec with 31250B < Vol DL < 125000B     93586\n",
       "Nb of sec with 37500B < Vol UL              130254\n",
       "Nb of sec with 6250B < Vol DL < 31250B       88317\n",
       "Nb of sec with 6250B < Vol UL < 37500B      111843\n",
       "Nb of sec with Vol DL < 6250B                  755\n",
       "Nb of sec with Vol UL < 1250B                  793\n",
       "Social Media DL (Bytes)                          0\n",
       "Social Media UL (Bytes)                          0\n",
       "Google DL (Bytes)                                0\n",
       "Google UL (Bytes)                                0\n",
       "Email DL (Bytes)                                 0\n",
       "Email UL (Bytes)                                 0\n",
       "Youtube DL (Bytes)                               0\n",
       "Youtube UL (Bytes)                               0\n",
       "Netflix DL (Bytes)                               0\n",
       "Netflix UL (Bytes)                               0\n",
       "Gaming DL (Bytes)                                0\n",
       "Gaming UL (Bytes)                                0\n",
       "Other DL (Bytes)                                 0\n",
       "Other UL (Bytes)                                 0\n",
       "Total UL (Bytes)                                 1\n",
       "Total DL (Bytes)                                 1\n",
       "dtype: int64"
      ]
     },
     "execution_count": 13,
     "metadata": {},
     "output_type": "execute_result"
    }
   ],
   "source": [
    "numerical_data.isna().sum()"
   ]
  },
  {
   "cell_type": "code",
   "execution_count": 14,
   "metadata": {},
   "outputs": [
    {
     "data": {
      "text/plain": [
       "Start ms                                    0.000007\n",
       "End ms                                      0.000007\n",
       "Dur. (ms)                                   0.000007\n",
       "IMSI                                        0.003800\n",
       "MSISDN/Number                               0.007107\n",
       "IMEI                                        0.003813\n",
       "Avg RTT DL (ms)                             0.185525\n",
       "Avg RTT UL (ms)                             0.185412\n",
       "Avg Bearer TP DL (kbps)                     0.000007\n",
       "Avg Bearer TP UL (kbps)                     0.000007\n",
       "TCP DL Retrans. Vol (Bytes)                 0.587636\n",
       "TCP UL Retrans. Vol (Bytes)                 0.644322\n",
       "DL TP < 50 Kbps (%)                         0.005027\n",
       "50 Kbps < DL TP < 250 Kbps (%)              0.005027\n",
       "250 Kbps < DL TP < 1 Mbps (%)               0.005027\n",
       "DL TP > 1 Mbps (%)                          0.005027\n",
       "UL TP < 10 Kbps (%)                         0.005280\n",
       "10 Kbps < UL TP < 50 Kbps (%)               0.005280\n",
       "50 Kbps < UL TP < 300 Kbps (%)              0.005280\n",
       "UL TP > 300 Kbps (%)                        0.005280\n",
       "HTTP DL (Bytes)                             0.543156\n",
       "HTTP UL (Bytes)                             0.545396\n",
       "Activity Duration DL (ms)                   0.000007\n",
       "Activity Duration UL (ms)                   0.000007\n",
       "Dur. (ms).1                                 0.000007\n",
       "Nb of sec with 125000B < Vol DL             0.650249\n",
       "Nb of sec with 1250B < Vol UL < 6250B       0.619289\n",
       "Nb of sec with 31250B < Vol DL < 125000B    0.623903\n",
       "Nb of sec with 37500B < Vol UL              0.868354\n",
       "Nb of sec with 6250B < Vol DL < 31250B      0.588776\n",
       "Nb of sec with 6250B < Vol UL < 37500B      0.745615\n",
       "Nb of sec with Vol DL < 6250B               0.005033\n",
       "Nb of sec with Vol UL < 1250B               0.005287\n",
       "Social Media DL (Bytes)                     0.000000\n",
       "Social Media UL (Bytes)                     0.000000\n",
       "Google DL (Bytes)                           0.000000\n",
       "Google UL (Bytes)                           0.000000\n",
       "Email DL (Bytes)                            0.000000\n",
       "Email UL (Bytes)                            0.000000\n",
       "Youtube DL (Bytes)                          0.000000\n",
       "Youtube UL (Bytes)                          0.000000\n",
       "Netflix DL (Bytes)                          0.000000\n",
       "Netflix UL (Bytes)                          0.000000\n",
       "Gaming DL (Bytes)                           0.000000\n",
       "Gaming UL (Bytes)                           0.000000\n",
       "Other DL (Bytes)                            0.000000\n",
       "Other UL (Bytes)                            0.000000\n",
       "Total UL (Bytes)                            0.000007\n",
       "Total DL (Bytes)                            0.000007\n",
       "dtype: float64"
      ]
     },
     "execution_count": 14,
     "metadata": {},
     "output_type": "execute_result"
    }
   ],
   "source": [
    "numerical_data.isna().sum() / len(numerical_data)"
   ]
  },
  {
   "cell_type": "code",
   "execution_count": 16,
   "metadata": {},
   "outputs": [],
   "source": [
    "a = numerical_data.isna().sum() / len(numerical_data)"
   ]
  },
  {
   "cell_type": "code",
   "execution_count": 17,
   "metadata": {},
   "outputs": [],
   "source": [
    "high_missing_value_feature_names = []\n",
    "for name, value in a.to_dict().items():\n",
    "    if value > 0.01:\n",
    "        high_missing_value_feature_names.append(name)"
   ]
  },
  {
   "cell_type": "code",
   "execution_count": 18,
   "metadata": {},
   "outputs": [
    {
     "data": {
      "text/plain": [
       "['Nb of sec with 125000B < Vol DL',\n",
       " 'Avg RTT DL (ms)',\n",
       " 'HTTP DL (Bytes)',\n",
       " 'Nb of sec with 6250B < Vol DL < 31250B',\n",
       " 'Nb of sec with 1250B < Vol UL < 6250B',\n",
       " 'Nb of sec with 6250B < Vol UL < 37500B',\n",
       " 'Nb of sec with 37500B < Vol UL',\n",
       " 'Avg RTT UL (ms)',\n",
       " 'TCP UL Retrans. Vol (Bytes)',\n",
       " 'Nb of sec with 31250B < Vol DL < 125000B',\n",
       " 'HTTP UL (Bytes)',\n",
       " 'TCP DL Retrans. Vol (Bytes)']"
      ]
     },
     "execution_count": 18,
     "metadata": {},
     "output_type": "execute_result"
    }
   ],
   "source": [
    "high_missing_value_feature_names"
   ]
  },
  {
   "cell_type": "markdown",
   "metadata": {},
   "source": [
    "> #### Drop Rows\n",
    "    \n",
    "    From the exploratory analysis above, we nooticed that Bearer Id contains str object\n",
    "    this object are empty strings and do not contain any information about the the user session\n",
    "    so it should be dropped\n",
    "    \n",
    "    the MSISDN contains some missing values. This values cannot be imputed as there are unique\n",
    "    MSISDN is synonymous to a mobile user phone number.\n",
    "    "
   ]
  },
  {
   "cell_type": "code",
   "execution_count": 20,
   "metadata": {},
   "outputs": [],
   "source": [
    "#bearer = pd.to_numeric(data['Bearer Id'], errors = 'coerce')"
   ]
  },
  {
   "cell_type": "code",
   "execution_count": 21,
   "metadata": {},
   "outputs": [],
   "source": [
    "\"\"\"\n",
    "remove rows with empty strings that have been converted to nan\n",
    "\n",
    "\"\"\"\n",
    "\n",
    "data.drop(data.loc[data['Bearer Id'].apply(is_str)].index, inplace = True)\n",
    "\n",
    "data.drop(data.loc[data['IMSI'].isna()].index, inplace = True)"
   ]
  },
  {
   "cell_type": "markdown",
   "metadata": {},
   "source": [
    "> ### TASK 1.1"
   ]
  },
  {
   "cell_type": "markdown",
   "metadata": {},
   "source": [
    "#### Top 10 Handsets used by Customers"
   ]
  },
  {
   "cell_type": "code",
   "execution_count": 22,
   "metadata": {},
   "outputs": [
    {
     "data": {
      "text/html": [
       "<div>\n",
       "<style scoped>\n",
       "    .dataframe tbody tr th:only-of-type {\n",
       "        vertical-align: middle;\n",
       "    }\n",
       "\n",
       "    .dataframe tbody tr th {\n",
       "        vertical-align: top;\n",
       "    }\n",
       "\n",
       "    .dataframe thead th {\n",
       "        text-align: right;\n",
       "    }\n",
       "</style>\n",
       "<table border=\"1\" class=\"dataframe\">\n",
       "  <thead>\n",
       "    <tr style=\"text-align: right;\">\n",
       "      <th></th>\n",
       "      <th>Handet Type</th>\n",
       "      <th>Customer count</th>\n",
       "    </tr>\n",
       "  </thead>\n",
       "  <tbody>\n",
       "    <tr>\n",
       "      <th>0</th>\n",
       "      <td>Huawei B528S-23A</td>\n",
       "      <td>19752</td>\n",
       "    </tr>\n",
       "    <tr>\n",
       "      <th>1</th>\n",
       "      <td>Apple iPhone 6S (A1688)</td>\n",
       "      <td>9401</td>\n",
       "    </tr>\n",
       "    <tr>\n",
       "      <th>2</th>\n",
       "      <td>Apple iPhone 6 (A1586)</td>\n",
       "      <td>9004</td>\n",
       "    </tr>\n",
       "    <tr>\n",
       "      <th>3</th>\n",
       "      <td>undefined</td>\n",
       "      <td>8960</td>\n",
       "    </tr>\n",
       "    <tr>\n",
       "      <th>4</th>\n",
       "      <td>Apple iPhone 7 (A1778)</td>\n",
       "      <td>6301</td>\n",
       "    </tr>\n",
       "    <tr>\n",
       "      <th>5</th>\n",
       "      <td>Apple iPhone Se (A1723)</td>\n",
       "      <td>5176</td>\n",
       "    </tr>\n",
       "    <tr>\n",
       "      <th>6</th>\n",
       "      <td>Apple iPhone 8 (A1905)</td>\n",
       "      <td>4985</td>\n",
       "    </tr>\n",
       "    <tr>\n",
       "      <th>7</th>\n",
       "      <td>Apple iPhone Xr (A2105)</td>\n",
       "      <td>4562</td>\n",
       "    </tr>\n",
       "    <tr>\n",
       "      <th>8</th>\n",
       "      <td>Samsung Galaxy S8 (Sm-G950F)</td>\n",
       "      <td>4504</td>\n",
       "    </tr>\n",
       "    <tr>\n",
       "      <th>9</th>\n",
       "      <td>Apple iPhone X (A1901)</td>\n",
       "      <td>3809</td>\n",
       "    </tr>\n",
       "  </tbody>\n",
       "</table>\n",
       "</div>"
      ],
      "text/plain": [
       "                    Handet Type  Customer count\n",
       "0              Huawei B528S-23A           19752\n",
       "1       Apple iPhone 6S (A1688)            9401\n",
       "2        Apple iPhone 6 (A1586)            9004\n",
       "3                     undefined            8960\n",
       "4        Apple iPhone 7 (A1778)            6301\n",
       "5       Apple iPhone Se (A1723)            5176\n",
       "6        Apple iPhone 8 (A1905)            4985\n",
       "7       Apple iPhone Xr (A2105)            4562\n",
       "8  Samsung Galaxy S8 (Sm-G950F)            4504\n",
       "9        Apple iPhone X (A1901)            3809"
      ]
     },
     "execution_count": 22,
     "metadata": {},
     "output_type": "execute_result"
    }
   ],
   "source": [
    "handset = pd.DataFrame(data['Handset Type'].value_counts().head(10)).reset_index()\n",
    "handset.columns= ['Handet Type', 'Customer count']\n",
    "handset"
   ]
  },
  {
   "cell_type": "markdown",
   "metadata": {},
   "source": [
    "#### Top 3 Handset Manufacturers"
   ]
  },
  {
   "cell_type": "code",
   "execution_count": 23,
   "metadata": {},
   "outputs": [
    {
     "data": {
      "text/html": [
       "<div>\n",
       "<style scoped>\n",
       "    .dataframe tbody tr th:only-of-type {\n",
       "        vertical-align: middle;\n",
       "    }\n",
       "\n",
       "    .dataframe tbody tr th {\n",
       "        vertical-align: top;\n",
       "    }\n",
       "\n",
       "    .dataframe thead th {\n",
       "        text-align: right;\n",
       "    }\n",
       "</style>\n",
       "<table border=\"1\" class=\"dataframe\">\n",
       "  <thead>\n",
       "    <tr style=\"text-align: right;\">\n",
       "      <th></th>\n",
       "      <th>Manufacturer</th>\n",
       "      <th>Total phone produced</th>\n",
       "    </tr>\n",
       "  </thead>\n",
       "  <tbody>\n",
       "    <tr>\n",
       "      <th>0</th>\n",
       "      <td>Apple</td>\n",
       "      <td>59440</td>\n",
       "    </tr>\n",
       "    <tr>\n",
       "      <th>1</th>\n",
       "      <td>Samsung</td>\n",
       "      <td>40689</td>\n",
       "    </tr>\n",
       "    <tr>\n",
       "      <th>2</th>\n",
       "      <td>Huawei</td>\n",
       "      <td>34353</td>\n",
       "    </tr>\n",
       "  </tbody>\n",
       "</table>\n",
       "</div>"
      ],
      "text/plain": [
       "  Manufacturer   Total phone produced\n",
       "0        Apple                  59440\n",
       "1      Samsung                  40689\n",
       "2       Huawei                  34353"
      ]
     },
     "execution_count": 23,
     "metadata": {},
     "output_type": "execute_result"
    }
   ],
   "source": [
    "top_manufacturers = data['Handset Manufacturer'].value_counts()[:3].reset_index()\n",
    "top_manufacturers.columns = ['Manufacturer', ' Total phone produced']\n",
    "top_manufacturers"
   ]
  },
  {
   "cell_type": "markdown",
   "metadata": {},
   "source": [
    "#### top 5 handsets per handset manufacturer"
   ]
  },
  {
   "cell_type": "code",
   "execution_count": null,
   "metadata": {},
   "outputs": [],
   "source": []
  },
  {
   "cell_type": "code",
   "execution_count": null,
   "metadata": {},
   "outputs": [],
   "source": []
  },
  {
   "cell_type": "code",
   "execution_count": null,
   "metadata": {},
   "outputs": [],
   "source": []
  },
  {
   "cell_type": "code",
   "execution_count": null,
   "metadata": {},
   "outputs": [],
   "source": []
  },
  {
   "cell_type": "markdown",
   "metadata": {},
   "source": [
    "#### number of sessions per user"
   ]
  },
  {
   "cell_type": "code",
   "execution_count": 27,
   "metadata": {},
   "outputs": [],
   "source": [
    "number_of_sessions = data.groupby('MSISDN/Number')['Bearer Id'].count()"
   ]
  },
  {
   "cell_type": "code",
   "execution_count": 28,
   "metadata": {},
   "outputs": [
    {
     "data": {
      "text/plain": [
       "MSISDN/Number\n",
       "3.360100e+10    1\n",
       "3.360100e+10    1\n",
       "3.360100e+10    1\n",
       "3.360101e+10    1\n",
       "3.360101e+10    2\n",
       "Name: Bearer Id, dtype: int64"
      ]
     },
     "execution_count": 28,
     "metadata": {},
     "output_type": "execute_result"
    }
   ],
   "source": [
    "number_of_sessions.head()"
   ]
  },
  {
   "cell_type": "code",
   "execution_count": 29,
   "metadata": {},
   "outputs": [
    {
     "data": {
      "text/html": [
       "<div>\n",
       "<style scoped>\n",
       "    .dataframe tbody tr th:only-of-type {\n",
       "        vertical-align: middle;\n",
       "    }\n",
       "\n",
       "    .dataframe tbody tr th {\n",
       "        vertical-align: top;\n",
       "    }\n",
       "\n",
       "    .dataframe thead th {\n",
       "        text-align: right;\n",
       "    }\n",
       "</style>\n",
       "<table border=\"1\" class=\"dataframe\">\n",
       "  <thead>\n",
       "    <tr style=\"text-align: right;\">\n",
       "      <th></th>\n",
       "      <th>MSISDN/Number</th>\n",
       "      <th>Bearer Id</th>\n",
       "    </tr>\n",
       "  </thead>\n",
       "  <tbody>\n",
       "    <tr>\n",
       "      <th>0</th>\n",
       "      <td>3.360100e+10</td>\n",
       "      <td>1</td>\n",
       "    </tr>\n",
       "    <tr>\n",
       "      <th>1</th>\n",
       "      <td>3.360100e+10</td>\n",
       "      <td>1</td>\n",
       "    </tr>\n",
       "    <tr>\n",
       "      <th>2</th>\n",
       "      <td>3.360100e+10</td>\n",
       "      <td>1</td>\n",
       "    </tr>\n",
       "    <tr>\n",
       "      <th>3</th>\n",
       "      <td>3.360101e+10</td>\n",
       "      <td>1</td>\n",
       "    </tr>\n",
       "    <tr>\n",
       "      <th>4</th>\n",
       "      <td>3.360101e+10</td>\n",
       "      <td>2</td>\n",
       "    </tr>\n",
       "  </tbody>\n",
       "</table>\n",
       "</div>"
      ],
      "text/plain": [
       "   MSISDN/Number  Bearer Id\n",
       "0   3.360100e+10          1\n",
       "1   3.360100e+10          1\n",
       "2   3.360100e+10          1\n",
       "3   3.360101e+10          1\n",
       "4   3.360101e+10          2"
      ]
     },
     "execution_count": 29,
     "metadata": {},
     "output_type": "execute_result"
    }
   ],
   "source": [
    "number_of_sessions.reset_index().head()"
   ]
  },
  {
   "cell_type": "markdown",
   "metadata": {},
   "source": [
    "#### session duration"
   ]
  },
  {
   "cell_type": "code",
   "execution_count": 33,
   "metadata": {},
   "outputs": [
    {
     "data": {
      "text/html": [
       "<div>\n",
       "<style scoped>\n",
       "    .dataframe tbody tr th:only-of-type {\n",
       "        vertical-align: middle;\n",
       "    }\n",
       "\n",
       "    .dataframe tbody tr th {\n",
       "        vertical-align: top;\n",
       "    }\n",
       "\n",
       "    .dataframe thead th {\n",
       "        text-align: right;\n",
       "    }\n",
       "</style>\n",
       "<table border=\"1\" class=\"dataframe\">\n",
       "  <thead>\n",
       "    <tr style=\"text-align: right;\">\n",
       "      <th></th>\n",
       "      <th>MSISDN/Number</th>\n",
       "      <th>Dur. (ms).1</th>\n",
       "    </tr>\n",
       "  </thead>\n",
       "  <tbody>\n",
       "    <tr>\n",
       "      <th>0</th>\n",
       "      <td>3.360100e+10</td>\n",
       "      <td>116720140.0</td>\n",
       "    </tr>\n",
       "    <tr>\n",
       "      <th>1</th>\n",
       "      <td>3.360100e+10</td>\n",
       "      <td>181230963.0</td>\n",
       "    </tr>\n",
       "    <tr>\n",
       "      <th>2</th>\n",
       "      <td>3.360100e+10</td>\n",
       "      <td>134969374.0</td>\n",
       "    </tr>\n",
       "    <tr>\n",
       "      <th>3</th>\n",
       "      <td>3.360101e+10</td>\n",
       "      <td>49878024.0</td>\n",
       "    </tr>\n",
       "    <tr>\n",
       "      <th>4</th>\n",
       "      <td>3.360101e+10</td>\n",
       "      <td>37104453.0</td>\n",
       "    </tr>\n",
       "  </tbody>\n",
       "</table>\n",
       "</div>"
      ],
      "text/plain": [
       "   MSISDN/Number  Dur. (ms).1\n",
       "0   3.360100e+10  116720140.0\n",
       "1   3.360100e+10  181230963.0\n",
       "2   3.360100e+10  134969374.0\n",
       "3   3.360101e+10   49878024.0\n",
       "4   3.360101e+10   37104453.0"
      ]
     },
     "execution_count": 33,
     "metadata": {},
     "output_type": "execute_result"
    }
   ],
   "source": [
    "sessions_duration = data.groupby('MSISDN/Number')['Dur. (ms).1'].sum()\n",
    "sessions_duration.reset_index().head()"
   ]
  },
  {
   "cell_type": "markdown",
   "metadata": {},
   "source": [
    "#### the Total download (DL) and Upload (UL) data"
   ]
  },
  {
   "cell_type": "code",
   "execution_count": 36,
   "metadata": {},
   "outputs": [
    {
     "data": {
      "text/html": [
       "<div>\n",
       "<style scoped>\n",
       "    .dataframe tbody tr th:only-of-type {\n",
       "        vertical-align: middle;\n",
       "    }\n",
       "\n",
       "    .dataframe tbody tr th {\n",
       "        vertical-align: top;\n",
       "    }\n",
       "\n",
       "    .dataframe thead th {\n",
       "        text-align: right;\n",
       "    }\n",
       "</style>\n",
       "<table border=\"1\" class=\"dataframe\">\n",
       "  <thead>\n",
       "    <tr style=\"text-align: right;\">\n",
       "      <th></th>\n",
       "      <th>MSISDN/Number</th>\n",
       "      <th>Total UL (Bytes)</th>\n",
       "      <th>Total DL (Bytes)</th>\n",
       "    </tr>\n",
       "  </thead>\n",
       "  <tbody>\n",
       "    <tr>\n",
       "      <th>0</th>\n",
       "      <td>3.360100e+10</td>\n",
       "      <td>36053108.0</td>\n",
       "      <td>8.426375e+08</td>\n",
       "    </tr>\n",
       "    <tr>\n",
       "      <th>1</th>\n",
       "      <td>3.360100e+10</td>\n",
       "      <td>36104459.0</td>\n",
       "      <td>1.207552e+08</td>\n",
       "    </tr>\n",
       "    <tr>\n",
       "      <th>2</th>\n",
       "      <td>3.360100e+10</td>\n",
       "      <td>39306820.0</td>\n",
       "      <td>5.566597e+08</td>\n",
       "    </tr>\n",
       "    <tr>\n",
       "      <th>3</th>\n",
       "      <td>3.360101e+10</td>\n",
       "      <td>20327526.0</td>\n",
       "      <td>4.019932e+08</td>\n",
       "    </tr>\n",
       "    <tr>\n",
       "      <th>4</th>\n",
       "      <td>3.360101e+10</td>\n",
       "      <td>94280527.0</td>\n",
       "      <td>1.363130e+09</td>\n",
       "    </tr>\n",
       "  </tbody>\n",
       "</table>\n",
       "</div>"
      ],
      "text/plain": [
       "   MSISDN/Number  Total UL (Bytes)  Total DL (Bytes)\n",
       "0   3.360100e+10        36053108.0      8.426375e+08\n",
       "1   3.360100e+10        36104459.0      1.207552e+08\n",
       "2   3.360100e+10        39306820.0      5.566597e+08\n",
       "3   3.360101e+10        20327526.0      4.019932e+08\n",
       "4   3.360101e+10        94280527.0      1.363130e+09"
      ]
     },
     "execution_count": 36,
     "metadata": {},
     "output_type": "execute_result"
    }
   ],
   "source": [
    "total_download = data.groupby('MSISDN/Number')['Total UL (Bytes)','Total DL (Bytes)'].sum()\n",
    "total_download.reset_index().head()"
   ]
  },
  {
   "cell_type": "code",
   "execution_count": null,
   "metadata": {},
   "outputs": [],
   "source": [
    "#total_download.get_group(208201448079117.0)"
   ]
  },
  {
   "cell_type": "markdown",
   "metadata": {},
   "source": [
    "#### Feature Aggregation"
   ]
  },
  {
   "cell_type": "markdown",
   "metadata": {},
   "source": [
    "#### Total Data Volume for each Application"
   ]
  },
  {
   "cell_type": "code",
   "execution_count": 37,
   "metadata": {},
   "outputs": [],
   "source": [
    "data['Social_media Data Volume'] = data['Social Media DL (Bytes)'].add(data['Social Media UL (Bytes)'])\n",
    "data['Google Data Volume'] = data['Google DL (Bytes)'].add(data['Google UL (Bytes)'])\n",
    "data['Email Data Volume'] = data['Email DL (Bytes)'].add(data['Email UL (Bytes)'])\n",
    "data['Youtube Data Volume'] = data['Youtube DL (Bytes)'].add(data['Youtube UL (Bytes)'])\n",
    "data['Netflix Data Volume'] = data['Netflix DL (Bytes)'].add(data['Netflix UL (Bytes)'])\n",
    "data['Gaming Data Volume'] = data['Gaming DL (Bytes)'].add(data['Gaming UL (Bytes)'])\n",
    "data['Other Data Volume'] = data['Other DL (Bytes)'].add(data['Other UL (Bytes)'])"
   ]
  },
  {
   "cell_type": "code",
   "execution_count": 82,
   "metadata": {},
   "outputs": [],
   "source": [
    "total_download_app = data.groupby('MSISDN/Number')['Social_media Data Volume','Google Data Volume',\\\n",
    "                                            'Other Data Volume', 'Email Data Volume', \\\n",
    "                                          'Youtube Data Volume', 'Netflix Data Volume', \\\n",
    "                                           'Gaming Data Volume'].sum().reset_index()"
   ]
  },
  {
   "cell_type": "markdown",
   "metadata": {},
   "source": [
    "## Interim Solution"
   ]
  },
  {
   "cell_type": "code",
   "execution_count": 135,
   "metadata": {},
   "outputs": [],
   "source": [
    "data2 = data[['Bearer Id','Dur. (ms).1','Total UL (Bytes)','Total DL (Bytes)','Social_media Data Volume','Google Data Volume',\\\n",
    "                                            'Other Data Volume', 'Email Data Volume', \\\n",
    "                                          'Youtube Data Volume', 'Netflix Data Volume', \\\n",
    "                                           'Gaming Data Volume']]"
   ]
  },
  {
   "cell_type": "code",
   "execution_count": 136,
   "metadata": {},
   "outputs": [],
   "source": [
    "# create a new column which is the addition of total download and total upload\n",
    "data2['Total Data Volume'] = data['Total DL (Bytes)'].add(data['Total UL (Bytes)'])"
   ]
  },
  {
   "cell_type": "code",
   "execution_count": 137,
   "metadata": {},
   "outputs": [
    {
     "data": {
      "text/html": [
       "<div>\n",
       "<style scoped>\n",
       "    .dataframe tbody tr th:only-of-type {\n",
       "        vertical-align: middle;\n",
       "    }\n",
       "\n",
       "    .dataframe tbody tr th {\n",
       "        vertical-align: top;\n",
       "    }\n",
       "\n",
       "    .dataframe thead th {\n",
       "        text-align: right;\n",
       "    }\n",
       "</style>\n",
       "<table border=\"1\" class=\"dataframe\">\n",
       "  <thead>\n",
       "    <tr style=\"text-align: right;\">\n",
       "      <th></th>\n",
       "      <th>Bearer Id</th>\n",
       "      <th>Dur. (ms).1</th>\n",
       "      <th>Total UL (Bytes)</th>\n",
       "      <th>Total DL (Bytes)</th>\n",
       "      <th>Social_media Data Volume</th>\n",
       "      <th>Google Data Volume</th>\n",
       "      <th>Other Data Volume</th>\n",
       "      <th>Email Data Volume</th>\n",
       "      <th>Youtube Data Volume</th>\n",
       "      <th>Netflix Data Volume</th>\n",
       "      <th>Gaming Data Volume</th>\n",
       "      <th>Total Data Volume</th>\n",
       "    </tr>\n",
       "  </thead>\n",
       "  <tbody>\n",
       "    <tr>\n",
       "      <th>0</th>\n",
       "      <td>13114483460844900352</td>\n",
       "      <td>1.823653e+09</td>\n",
       "      <td>36749741.0</td>\n",
       "      <td>308879636.0</td>\n",
       "      <td>1570185.0</td>\n",
       "      <td>2905912.0</td>\n",
       "      <td>180558843.0</td>\n",
       "      <td>3701304.0</td>\n",
       "      <td>18355943.0</td>\n",
       "      <td>17855187.0</td>\n",
       "      <td>292426453.0</td>\n",
       "      <td>345629377.0</td>\n",
       "    </tr>\n",
       "    <tr>\n",
       "      <th>1</th>\n",
       "      <td>13114483482878900224</td>\n",
       "      <td>1.365104e+09</td>\n",
       "      <td>53800391.0</td>\n",
       "      <td>653384965.0</td>\n",
       "      <td>1933278.0</td>\n",
       "      <td>4414096.0</td>\n",
       "      <td>541959383.0</td>\n",
       "      <td>937385.0</td>\n",
       "      <td>39359124.0</td>\n",
       "      <td>35565545.0</td>\n",
       "      <td>609920783.0</td>\n",
       "      <td>707185356.0</td>\n",
       "    </tr>\n",
       "    <tr>\n",
       "      <th>2</th>\n",
       "      <td>13114483484080500736</td>\n",
       "      <td>1.361763e+09</td>\n",
       "      <td>27883638.0</td>\n",
       "      <td>279807335.0</td>\n",
       "      <td>1726277.0</td>\n",
       "      <td>10229119.0</td>\n",
       "      <td>414908351.0</td>\n",
       "      <td>3363124.0</td>\n",
       "      <td>34425237.0</td>\n",
       "      <td>23751202.0</td>\n",
       "      <td>229980251.0</td>\n",
       "      <td>307690973.0</td>\n",
       "    </tr>\n",
       "  </tbody>\n",
       "</table>\n",
       "</div>"
      ],
      "text/plain": [
       "              Bearer Id   Dur. (ms).1  Total UL (Bytes)  Total DL (Bytes)  \\\n",
       "0  13114483460844900352  1.823653e+09        36749741.0       308879636.0   \n",
       "1  13114483482878900224  1.365104e+09        53800391.0       653384965.0   \n",
       "2  13114483484080500736  1.361763e+09        27883638.0       279807335.0   \n",
       "\n",
       "   Social_media Data Volume  Google Data Volume  Other Data Volume  \\\n",
       "0                 1570185.0           2905912.0        180558843.0   \n",
       "1                 1933278.0           4414096.0        541959383.0   \n",
       "2                 1726277.0          10229119.0        414908351.0   \n",
       "\n",
       "   Email Data Volume  Youtube Data Volume  Netflix Data Volume  \\\n",
       "0          3701304.0           18355943.0           17855187.0   \n",
       "1           937385.0           39359124.0           35565545.0   \n",
       "2          3363124.0           34425237.0           23751202.0   \n",
       "\n",
       "   Gaming Data Volume  Total Data Volume  \n",
       "0         292426453.0        345629377.0  \n",
       "1         609920783.0        707185356.0  \n",
       "2         229980251.0        307690973.0  "
      ]
     },
     "execution_count": 137,
     "metadata": {},
     "output_type": "execute_result"
    }
   ],
   "source": [
    "data2.head(3)"
   ]
  },
  {
   "cell_type": "markdown",
   "metadata": {},
   "source": [
    "#### Convert bytes to megabytes"
   ]
  },
  {
   "cell_type": "code",
   "execution_count": 138,
   "metadata": {},
   "outputs": [],
   "source": [
    "def bytes_to_megabytes(num):\n",
    "    mb = 1024 ** 2\n",
    "    return float('{0:.2f}'.format(num/mb))"
   ]
  },
  {
   "cell_type": "code",
   "execution_count": 139,
   "metadata": {},
   "outputs": [],
   "source": [
    "data_mb = data2[['Total UL (Bytes)','Total DL (Bytes)','Social_media Data Volume','Google Data Volume',\\\n",
    "        'Other Data Volume', 'Email Data Volume','Youtube Data Volume', 'Netflix Data Volume', \\\n",
    "         'Gaming Data Volume','Total Data Volume']].applymap(bytes_to_megabytes)"
   ]
  },
  {
   "cell_type": "code",
   "execution_count": 140,
   "metadata": {},
   "outputs": [],
   "source": [
    "data_mb[['Bearer Id','Dur. (ms).1']] = data2[['Bearer Id','Dur. (ms).1']]"
   ]
  },
  {
   "cell_type": "code",
   "execution_count": 141,
   "metadata": {},
   "outputs": [
    {
     "data": {
      "text/html": [
       "<div>\n",
       "<style scoped>\n",
       "    .dataframe tbody tr th:only-of-type {\n",
       "        vertical-align: middle;\n",
       "    }\n",
       "\n",
       "    .dataframe tbody tr th {\n",
       "        vertical-align: top;\n",
       "    }\n",
       "\n",
       "    .dataframe thead th {\n",
       "        text-align: right;\n",
       "    }\n",
       "</style>\n",
       "<table border=\"1\" class=\"dataframe\">\n",
       "  <thead>\n",
       "    <tr style=\"text-align: right;\">\n",
       "      <th></th>\n",
       "      <th>Total UL (Bytes)</th>\n",
       "      <th>Total DL (Bytes)</th>\n",
       "      <th>Social_media Data Volume</th>\n",
       "      <th>Google Data Volume</th>\n",
       "      <th>Other Data Volume</th>\n",
       "      <th>Email Data Volume</th>\n",
       "      <th>Youtube Data Volume</th>\n",
       "      <th>Netflix Data Volume</th>\n",
       "      <th>Gaming Data Volume</th>\n",
       "      <th>Total Data Volume</th>\n",
       "      <th>Bearer Id</th>\n",
       "      <th>Dur. (ms).1</th>\n",
       "    </tr>\n",
       "  </thead>\n",
       "  <tbody>\n",
       "    <tr>\n",
       "      <th>0</th>\n",
       "      <td>35.05</td>\n",
       "      <td>294.57</td>\n",
       "      <td>1.50</td>\n",
       "      <td>2.77</td>\n",
       "      <td>172.19</td>\n",
       "      <td>3.53</td>\n",
       "      <td>17.51</td>\n",
       "      <td>17.03</td>\n",
       "      <td>278.88</td>\n",
       "      <td>329.62</td>\n",
       "      <td>13114483460844900352</td>\n",
       "      <td>1.823653e+09</td>\n",
       "    </tr>\n",
       "    <tr>\n",
       "      <th>1</th>\n",
       "      <td>51.31</td>\n",
       "      <td>623.12</td>\n",
       "      <td>1.84</td>\n",
       "      <td>4.21</td>\n",
       "      <td>516.85</td>\n",
       "      <td>0.89</td>\n",
       "      <td>37.54</td>\n",
       "      <td>33.92</td>\n",
       "      <td>581.67</td>\n",
       "      <td>674.42</td>\n",
       "      <td>13114483482878900224</td>\n",
       "      <td>1.365104e+09</td>\n",
       "    </tr>\n",
       "    <tr>\n",
       "      <th>2</th>\n",
       "      <td>26.59</td>\n",
       "      <td>266.85</td>\n",
       "      <td>1.65</td>\n",
       "      <td>9.76</td>\n",
       "      <td>395.69</td>\n",
       "      <td>3.21</td>\n",
       "      <td>32.83</td>\n",
       "      <td>22.65</td>\n",
       "      <td>219.33</td>\n",
       "      <td>293.44</td>\n",
       "      <td>13114483484080500736</td>\n",
       "      <td>1.361763e+09</td>\n",
       "    </tr>\n",
       "    <tr>\n",
       "      <th>3</th>\n",
       "      <td>41.32</td>\n",
       "      <td>806.84</td>\n",
       "      <td>0.63</td>\n",
       "      <td>11.26</td>\n",
       "      <td>726.54</td>\n",
       "      <td>1.98</td>\n",
       "      <td>34.84</td>\n",
       "      <td>14.39</td>\n",
       "      <td>772.85</td>\n",
       "      <td>848.15</td>\n",
       "      <td>13114483485442799616</td>\n",
       "      <td>1.321510e+09</td>\n",
       "    </tr>\n",
       "    <tr>\n",
       "      <th>4</th>\n",
       "      <td>36.76</td>\n",
       "      <td>542.77</td>\n",
       "      <td>0.87</td>\n",
       "      <td>7.39</td>\n",
       "      <td>538.46</td>\n",
       "      <td>2.01</td>\n",
       "      <td>32.64</td>\n",
       "      <td>16.73</td>\n",
       "      <td>506.63</td>\n",
       "      <td>579.53</td>\n",
       "      <td>13114483499480700928</td>\n",
       "      <td>1.089009e+09</td>\n",
       "    </tr>\n",
       "  </tbody>\n",
       "</table>\n",
       "</div>"
      ],
      "text/plain": [
       "   Total UL (Bytes)  Total DL (Bytes)  Social_media Data Volume  \\\n",
       "0             35.05            294.57                      1.50   \n",
       "1             51.31            623.12                      1.84   \n",
       "2             26.59            266.85                      1.65   \n",
       "3             41.32            806.84                      0.63   \n",
       "4             36.76            542.77                      0.87   \n",
       "\n",
       "   Google Data Volume  Other Data Volume  Email Data Volume  \\\n",
       "0                2.77             172.19               3.53   \n",
       "1                4.21             516.85               0.89   \n",
       "2                9.76             395.69               3.21   \n",
       "3               11.26             726.54               1.98   \n",
       "4                7.39             538.46               2.01   \n",
       "\n",
       "   Youtube Data Volume  Netflix Data Volume  Gaming Data Volume  \\\n",
       "0                17.51                17.03              278.88   \n",
       "1                37.54                33.92              581.67   \n",
       "2                32.83                22.65              219.33   \n",
       "3                34.84                14.39              772.85   \n",
       "4                32.64                16.73              506.63   \n",
       "\n",
       "   Total Data Volume             Bearer Id   Dur. (ms).1  \n",
       "0             329.62  13114483460844900352  1.823653e+09  \n",
       "1             674.42  13114483482878900224  1.365104e+09  \n",
       "2             293.44  13114483484080500736  1.361763e+09  \n",
       "3             848.15  13114483485442799616  1.321510e+09  \n",
       "4             579.53  13114483499480700928  1.089009e+09  "
      ]
     },
     "execution_count": 141,
     "metadata": {},
     "output_type": "execute_result"
    }
   ],
   "source": [
    "data_mb.head()"
   ]
  },
  {
   "cell_type": "code",
   "execution_count": 134,
   "metadata": {},
   "outputs": [],
   "source": [
    "#pd.merge(data2[['Bearer Id','Dur. (ms).1']], data_mb , right_index= True , left_index=True)"
   ]
  },
  {
   "cell_type": "code",
   "execution_count": 125,
   "metadata": {},
   "outputs": [],
   "source": [
    "#data2[['Bearer Id','Dur. (ms).1']].append(data_mb, ignore_index=True).head()"
   ]
  },
  {
   "cell_type": "code",
   "execution_count": 126,
   "metadata": {},
   "outputs": [],
   "source": [
    "#data.head()"
   ]
  },
  {
   "cell_type": "markdown",
   "metadata": {},
   "source": [
    "#### Remove Outliers"
   ]
  },
  {
   "cell_type": "code",
   "execution_count": 146,
   "metadata": {},
   "outputs": [
    {
     "data": {
      "text/html": [
       "<div>\n",
       "<style scoped>\n",
       "    .dataframe tbody tr th:only-of-type {\n",
       "        vertical-align: middle;\n",
       "    }\n",
       "\n",
       "    .dataframe tbody tr th {\n",
       "        vertical-align: top;\n",
       "    }\n",
       "\n",
       "    .dataframe thead th {\n",
       "        text-align: right;\n",
       "    }\n",
       "</style>\n",
       "<table border=\"1\" class=\"dataframe\">\n",
       "  <thead>\n",
       "    <tr style=\"text-align: right;\">\n",
       "      <th></th>\n",
       "      <th>Total UL (Bytes)</th>\n",
       "      <th>Total DL (Bytes)</th>\n",
       "      <th>Social_media Data Volume</th>\n",
       "      <th>Google Data Volume</th>\n",
       "      <th>Other Data Volume</th>\n",
       "      <th>Email Data Volume</th>\n",
       "      <th>Youtube Data Volume</th>\n",
       "      <th>Netflix Data Volume</th>\n",
       "      <th>Gaming Data Volume</th>\n",
       "      <th>Total Data Volume</th>\n",
       "    </tr>\n",
       "  </thead>\n",
       "  <tbody>\n",
       "    <tr>\n",
       "      <th>0</th>\n",
       "      <td>35.05</td>\n",
       "      <td>294.57</td>\n",
       "      <td>1.50</td>\n",
       "      <td>2.77</td>\n",
       "      <td>172.19</td>\n",
       "      <td>3.53</td>\n",
       "      <td>17.51</td>\n",
       "      <td>17.03</td>\n",
       "      <td>278.88</td>\n",
       "      <td>329.62</td>\n",
       "    </tr>\n",
       "    <tr>\n",
       "      <th>1</th>\n",
       "      <td>51.31</td>\n",
       "      <td>623.12</td>\n",
       "      <td>1.84</td>\n",
       "      <td>4.21</td>\n",
       "      <td>516.85</td>\n",
       "      <td>0.89</td>\n",
       "      <td>37.54</td>\n",
       "      <td>33.92</td>\n",
       "      <td>581.67</td>\n",
       "      <td>674.42</td>\n",
       "    </tr>\n",
       "    <tr>\n",
       "      <th>2</th>\n",
       "      <td>26.59</td>\n",
       "      <td>266.85</td>\n",
       "      <td>1.65</td>\n",
       "      <td>9.76</td>\n",
       "      <td>395.69</td>\n",
       "      <td>3.21</td>\n",
       "      <td>32.83</td>\n",
       "      <td>22.65</td>\n",
       "      <td>219.33</td>\n",
       "      <td>293.44</td>\n",
       "    </tr>\n",
       "    <tr>\n",
       "      <th>3</th>\n",
       "      <td>41.32</td>\n",
       "      <td>806.84</td>\n",
       "      <td>0.63</td>\n",
       "      <td>11.26</td>\n",
       "      <td>726.54</td>\n",
       "      <td>1.98</td>\n",
       "      <td>34.84</td>\n",
       "      <td>14.39</td>\n",
       "      <td>772.85</td>\n",
       "      <td>848.15</td>\n",
       "    </tr>\n",
       "    <tr>\n",
       "      <th>4</th>\n",
       "      <td>36.76</td>\n",
       "      <td>542.77</td>\n",
       "      <td>0.87</td>\n",
       "      <td>7.39</td>\n",
       "      <td>538.46</td>\n",
       "      <td>2.01</td>\n",
       "      <td>32.64</td>\n",
       "      <td>16.73</td>\n",
       "      <td>506.63</td>\n",
       "      <td>579.53</td>\n",
       "    </tr>\n",
       "  </tbody>\n",
       "</table>\n",
       "</div>"
      ],
      "text/plain": [
       "   Total UL (Bytes)  Total DL (Bytes)  Social_media Data Volume  \\\n",
       "0             35.05            294.57                      1.50   \n",
       "1             51.31            623.12                      1.84   \n",
       "2             26.59            266.85                      1.65   \n",
       "3             41.32            806.84                      0.63   \n",
       "4             36.76            542.77                      0.87   \n",
       "\n",
       "   Google Data Volume  Other Data Volume  Email Data Volume  \\\n",
       "0                2.77             172.19               3.53   \n",
       "1                4.21             516.85               0.89   \n",
       "2                9.76             395.69               3.21   \n",
       "3               11.26             726.54               1.98   \n",
       "4                7.39             538.46               2.01   \n",
       "\n",
       "   Youtube Data Volume  Netflix Data Volume  Gaming Data Volume  \\\n",
       "0                17.51                17.03              278.88   \n",
       "1                37.54                33.92              581.67   \n",
       "2                32.83                22.65              219.33   \n",
       "3                34.84                14.39              772.85   \n",
       "4                32.64                16.73              506.63   \n",
       "\n",
       "   Total Data Volume  \n",
       "0             329.62  \n",
       "1             674.42  \n",
       "2             293.44  \n",
       "3             848.15  \n",
       "4             579.53  "
      ]
     },
     "execution_count": 146,
     "metadata": {},
     "output_type": "execute_result"
    }
   ],
   "source": [
    "data_outliers = data_mb.iloc[:,:-2] \n",
    "data_outliers.head()"
   ]
  },
  {
   "cell_type": "code",
   "execution_count": 147,
   "metadata": {},
   "outputs": [],
   "source": [
    "\"\"\"\n",
    "Using the zscore and a threshold of 3 remove outliers from the da \n",
    "\"\"\"\n",
    "\n",
    "z = np.abs(stats.zscore(data_outliers))\n",
    "data_outliers = data_outliers[(z < 3).all(axis=1)]"
   ]
  },
  {
   "cell_type": "code",
   "execution_count": 148,
   "metadata": {},
   "outputs": [
    {
     "data": {
      "text/plain": [
       "(148946, 10)"
      ]
     },
     "execution_count": 148,
     "metadata": {},
     "output_type": "execute_result"
    }
   ],
   "source": [
    "data_outliers.shape"
   ]
  },
  {
   "cell_type": "markdown",
   "metadata": {},
   "source": [
    "#### Non Graphical Univariate Analysis"
   ]
  },
  {
   "cell_type": "code",
   "execution_count": null,
   "metadata": {},
   "outputs": [],
   "source": [
    "#data_outliers.describe()"
   ]
  },
  {
   "cell_type": "code",
   "execution_count": 149,
   "metadata": {},
   "outputs": [],
   "source": [
    "descriptive_analysis = data_outliers.describe()"
   ]
  },
  {
   "cell_type": "code",
   "execution_count": 150,
   "metadata": {},
   "outputs": [],
   "source": [
    "descriptive_analysis.to_excel('data/Descriptive Table.xlsx')"
   ]
  },
  {
   "cell_type": "markdown",
   "metadata": {},
   "source": [
    "#### Box Plot on all Variable of Interest"
   ]
  },
  {
   "cell_type": "code",
   "execution_count": 152,
   "metadata": {},
   "outputs": [
    {
     "data": {
      "text/plain": [
       "'\\nfig, ax = plt.subplots(figsize = (10,8))\\nax = sns.boxplot(data = data_outliers ,y = \\'Bearer Id\\', linewidth = 2.5, width = 0.3)\\nax.set_title(\\'Box Plot of User sessions\\', fontsize = 20)\\nax.set_ylabel(\\'Bearer Id\\',fontsize = 15)\\nplt.savefig(\\'fig/user_session.png\\')\\n#ax = sns.swarmplot(x=\"Bearer Id\", data=data2, color=\".25\")\\n\\n'"
      ]
     },
     "execution_count": 152,
     "metadata": {},
     "output_type": "execute_result"
    }
   ],
   "source": [
    "\"\"\"\n",
    "fig, ax = plt.subplots(figsize = (10,8))\n",
    "ax = sns.boxplot(data = data_outliers ,y = 'Bearer Id', linewidth = 2.5, width = 0.3)\n",
    "ax.set_title('Box Plot of User sessions', fontsize = 20)\n",
    "ax.set_ylabel('Bearer Id',fontsize = 15)\n",
    "plt.savefig('fig/user_session.png')\n",
    "#ax = sns.swarmplot(x=\"Bearer Id\", data=data2, color=\".25\")\n",
    "\n",
    "\"\"\""
   ]
  },
  {
   "cell_type": "code",
   "execution_count": 153,
   "metadata": {},
   "outputs": [
    {
     "data": {
      "text/plain": [
       "\"\\nfig, ax = plt.subplots(figsize = (10,8))\\nax = sns.boxplot(data = data2 ,y = 'Dur. (ms).1', linewidth = 2.5, width = 0.3)\\nax.set_title('Box Plot of Sessions Duration', fontsize = 20)\\nax.set_ylabel('Duration',fontsize = 15)\\nplt.savefig('fig/session_duration.png')\\n\\n\""
      ]
     },
     "execution_count": 153,
     "metadata": {},
     "output_type": "execute_result"
    }
   ],
   "source": [
    "\"\"\"\n",
    "fig, ax = plt.subplots(figsize = (10,8))\n",
    "ax = sns.boxplot(data = data2 ,y = 'Dur. (ms).1', linewidth = 2.5, width = 0.3)\n",
    "ax.set_title('Box Plot of Sessions Duration', fontsize = 20)\n",
    "ax.set_ylabel('Duration',fontsize = 15)\n",
    "plt.savefig('fig/session_duration.png')\n",
    "\n",
    "\"\"\""
   ]
  },
  {
   "cell_type": "code",
   "execution_count": 157,
   "metadata": {},
   "outputs": [
    {
     "data": {
      "image/png": "[encoded data removed]",
      "text/plain": [
       "<Figure size 720x576 with 1 Axes>"
      ]
     },
     "metadata": {},
     "output_type": "display_data"
    }
   ],
   "source": [
    "fig, ax = plt.subplots(figsize = (10,8))\n",
    "ax = sns.boxplot(data = data_outliers ,y = 'Total UL (Bytes)', linewidth = 2.5, width = 0.3)\n",
    "ax.set_title('Box Plot of Total Upload in mb', fontsize = 20)\n",
    "ax.set_ylabel('Total Upload',fontsize = 15)\n",
    "plt.savefig('fig/total_upload.png')"
   ]
  },
  {
   "cell_type": "code",
   "execution_count": 158,
   "metadata": {},
   "outputs": [
    {
     "data": {
      "image/png": "[encoded data removed]",
      "text/plain": [
       "<Figure size 720x576 with 1 Axes>"
      ]
     },
     "metadata": {},
     "output_type": "display_data"
    }
   ],
   "source": [
    "fig, ax = plt.subplots(figsize = (10,8))\n",
    "ax = sns.boxplot(data = data_outliers ,y = 'Total DL (Bytes)', linewidth = 2.5, width = 0.3)\n",
    "ax.set_title('Box Plot of Total Download in mb', fontsize = 20)\n",
    "ax.set_ylabel('Total Download',fontsize = 15)\n",
    "plt.savefig('fig/total_download.png')"
   ]
  },
  {
   "cell_type": "code",
   "execution_count": 159,
   "metadata": {},
   "outputs": [
    {
     "data": {
      "image/png": "[encoded data removed]",
      "text/plain": [
       "<Figure size 720x576 with 1 Axes>"
      ]
     },
     "metadata": {},
     "output_type": "display_data"
    }
   ],
   "source": [
    "fig, ax = plt.subplots(figsize = (10,8))\n",
    "ax = sns.boxplot(data = data_outliers ,y = 'Social_media Data Volume', linewidth = 2.5, width = 0.3)\n",
    "ax.set_title('Box Plot of Social Media Data Volume', fontsize = 20)\n",
    "ax.set_ylabel('Social Media Data Volume in mb',fontsize = 15)\n",
    "plt.savefig('fig/social_media.png')"
   ]
  },
  {
   "cell_type": "code",
   "execution_count": 166,
   "metadata": {},
   "outputs": [
    {
     "data": {
      "image/png": "[encoded data removed]",
      "text/plain": [
       "<Figure size 720x576 with 1 Axes>"
      ]
     },
     "metadata": {},
     "output_type": "display_data"
    }
   ],
   "source": [
    "fig, ax = plt.subplots(figsize = (10,8))\n",
    "ax = sns.boxplot(data = data_outliers ,y = 'Google Data Volume', linewidth = 2.5, width = 0.3)\n",
    "ax.set_title('Box Plot of Google Data Volume', fontsize = 20)\n",
    "ax.set_ylabel('Google Volume in mb',fontsize = 15)\n",
    "plt.savefig('fig/Google.png')"
   ]
  },
  {
   "cell_type": "code",
   "execution_count": 167,
   "metadata": {},
   "outputs": [
    {
     "data": {
      "image/png": "[encoded data removed]",
      "text/plain": [
       "<Figure size 720x576 with 1 Axes>"
      ]
     },
     "metadata": {},
     "output_type": "display_data"
    }
   ],
   "source": [
    "fig, ax = plt.subplots(figsize = (10,8))\n",
    "ax = sns.boxplot(data = data_outliers ,y = 'Other Data Volume', linewidth = 2.5, width = 0.3)\n",
    "ax.set_title('Box Plot of Other APP Data Volume', fontsize = 20)\n",
    "ax.set_ylabel('oTHER app Data Volume in mb',fontsize = 15)\n",
    "plt.savefig('fig/other_app.png')"
   ]
  },
  {
   "cell_type": "code",
   "execution_count": 168,
   "metadata": {},
   "outputs": [
    {
     "data": {
      "image/png": "[encoded data removed]",
      "text/plain": [
       "<Figure size 720x576 with 1 Axes>"
      ]
     },
     "metadata": {},
     "output_type": "display_data"
    }
   ],
   "source": [
    "fig, ax = plt.subplots(figsize = (10,8))\n",
    "ax = sns.boxplot(data = data_outliers ,y = 'Email Data Volume', linewidth = 2.5, width = 0.3)\n",
    "ax.set_title('Box Plot of Email Data Volume', fontsize = 20)\n",
    "ax.set_ylabel('Email Data Volume in mb',fontsize = 15)\n",
    "plt.savefig('fig/Email.png')"
   ]
  },
  {
   "cell_type": "code",
   "execution_count": 169,
   "metadata": {},
   "outputs": [
    {
     "data": {
      "image/png": "[encoded data removed]",
      "text/plain": [
       "<Figure size 720x576 with 1 Axes>"
      ]
     },
     "metadata": {},
     "output_type": "display_data"
    }
   ],
   "source": [
    "fig, ax = plt.subplots(figsize = (10,8))\n",
    "ax = sns.boxplot(data = data_outliers ,y = 'Youtube Data Volume', linewidth = 2.5, width = 0.3)\n",
    "ax.set_title('Box Plot of Youtube Data Volume', fontsize = 20)\n",
    "ax.set_ylabel('Youtube Data Volume in mb',fontsize = 15)\n",
    "plt.savefig('fig/youtube.png')"
   ]
  },
  {
   "cell_type": "code",
   "execution_count": 170,
   "metadata": {},
   "outputs": [
    {
     "data": {
      "image/png": "[encoded data removed]",
      "text/plain": [
       "<Figure size 720x576 with 1 Axes>"
      ]
     },
     "metadata": {},
     "output_type": "display_data"
    }
   ],
   "source": [
    "fig, ax = plt.subplots(figsize = (10,8))\n",
    "ax = sns.boxplot(data = data_outliers ,y = 'Netflix Data Volume', linewidth = 2.5, width = 0.3)\n",
    "ax.set_title('Box Plot of Netflix Data Volume', fontsize = 20)\n",
    "ax.set_ylabel('Netflix Data Volume in mb',fontsize = 15)\n",
    "plt.savefig('fig/Netflix.png')"
   ]
  },
  {
   "cell_type": "code",
   "execution_count": 165,
   "metadata": {},
   "outputs": [
    {
     "data": {
      "image/png": "[encoded data removed]",
      "text/plain": [
       "<Figure size 720x576 with 1 Axes>"
      ]
     },
     "metadata": {},
     "output_type": "display_data"
    }
   ],
   "source": [
    "fig, ax = plt.subplots(figsize = (10,8))\n",
    "ax = sns.boxplot(data = data2 ,y = 'Gaming Data Volume', linewidth = 2.5, width = 0.3)\n",
    "ax.set_title('Box Plot of Gaming Data Volume', fontsize = 20)\n",
    "ax.set_ylabel('Gaming Volume in mb',fontsize = 15)\n",
    "plt.savefig('fig/Gaming.png')"
   ]
  },
  {
   "cell_type": "markdown",
   "metadata": {},
   "source": [
    "####  Bivariate Analysis on All applicatiions and Total Data using scatter Plot "
   ]
  },
  {
   "cell_type": "code",
   "execution_count": null,
   "metadata": {},
   "outputs": [],
   "source": [
    "sns.scatterplot(x=’tip’, y=’total_bill’, data=tips_data, marker=’D’)\n",
    "fig, ax = plt.subplots(figsize = (10,8))\n",
    "ax = sns.boxplot(data = data2 ,y = 'Social_media Data Volume', linewidth = 2.5, width = 0.3)"
   ]
  },
  {
   "cell_type": "code",
   "execution_count": null,
   "metadata": {},
   "outputs": [],
   "source": [
    "sns.scatterplot(x=’tip’, y=’total_bill’, data=tips_data, marker=’D’)\n",
    "fig, ax = plt.subplots(figsize = (10,8))\n",
    "ax = sns.boxplot(data = data2 ,y = 'Google Data Volume', linewidth = 2.5, width = 0.3)"
   ]
  },
  {
   "cell_type": "code",
   "execution_count": null,
   "metadata": {},
   "outputs": [],
   "source": [
    "sns.scatterplot(x=’tip’, y=’total_bill’, data=tips_data, marker=’D’)\n",
    "fig, ax = plt.subplots(figsize = (10,8))\n",
    "ax = sns.boxplot(data = data2 ,y = 'Gaming Data Volume', linewidth = 2.5, width = 0.3)"
   ]
  },
  {
   "cell_type": "code",
   "execution_count": null,
   "metadata": {},
   "outputs": [],
   "source": [
    "sns.scatterplot(x=’tip’, y=’total_bill’, data=tips_data, marker=’D’)\n",
    "fig, ax = plt.subplots(figsize = (10,8))\n",
    "ax = sns.boxplot(data = data2 ,y = 'Netflix Data Volume', linewidth = 2.5, width = 0.3)"
   ]
  },
  {
   "cell_type": "code",
   "execution_count": null,
   "metadata": {},
   "outputs": [],
   "source": [
    "sns.scatterplot(x=’tip’, y=’total_bill’, data=tips_data, marker=’D’)\n",
    "fig, ax = plt.subplots(figsize = (10,8))\n",
    "ax = sns.boxplot(data = data2 ,y = 'Youtube Data Volume', linewidth = 2.5, width = 0.3)"
   ]
  },
  {
   "cell_type": "code",
   "execution_count": null,
   "metadata": {},
   "outputs": [],
   "source": [
    "#sns.scatterplot(x=’tip’, y=’total_bill’, data=tips_data, marker=’D’)\n",
    "fig, ax = plt.subplots(figsize = (10,8))\n",
    "ax = sns.scatterplot(data = data2 ,x = 'Email Data Volume',y='Total Data Volume', marker='D')"
   ]
  },
  {
   "cell_type": "code",
   "execution_count": null,
   "metadata": {},
   "outputs": [],
   "source": []
  }
 ],
 "metadata": {
  "kernelspec": {
   "display_name": "Python 3",
   "language": "python",
   "name": "python3"
  },
  "language_info": {
   "codemirror_mode": {
    "name": "ipython",
    "version": 3
   },
   "file_extension": ".py",
   "mimetype": "text/x-python",
   "name": "python",
   "nbconvert_exporter": "python",
   "pygments_lexer": "ipython3",
   "version": "3.5.6"
  }
 },
 "nbformat": 4,
 "nbformat_minor": 4
}
